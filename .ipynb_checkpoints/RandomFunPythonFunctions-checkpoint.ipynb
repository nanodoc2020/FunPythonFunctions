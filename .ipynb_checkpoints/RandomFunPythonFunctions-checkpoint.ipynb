{
 "cells": [
  {
   "cell_type": "markdown",
   "metadata": {},
   "source": [
    "# Random Fun Python Functions\n",
    "\n",
    "This notebook contains functions that create staircases, sums hourglass figures in arrays, etc. As always, more to come!"
   ]
  },
  {
   "cell_type": "markdown",
   "metadata": {},
   "source": [
    "## hourglassSums(array)\n",
    "\n",
    "Created on Fri Dec 27 19:43:05 2019;\n",
    "hourglassSum takes a square array and calculates the sums of all of the \n",
    "hourglass shapes composed of 3x3 arrays within the original array and stores\n",
    "them in a list. Then the list is sorted and the largest of the sums is returned.\n",
    "@author: Erik Larsen"
   ]
  },
  {
   "cell_type": "code",
   "execution_count": 27,
   "metadata": {},
   "outputs": [],
   "source": [
    "n=10"
   ]
  },
  {
   "cell_type": "code",
   "execution_count": 28,
   "metadata": {},
   "outputs": [],
   "source": [
    "arr=np.round(np.random.randn(n,n)*3-np.eye(n)*2,2)     "
   ]
  },
  {
   "cell_type": "code",
   "execution_count": 29,
   "metadata": {},
   "outputs": [],
   "source": [
    "import numpy as np\n",
    "\n",
    "def hourglassSum(array):\n",
    "    shapes=np.shape(array)\n",
    "    error='error: My apologies, the input must be a square array with n>2.'\n",
    "    if shapes[0]!=shapes[1]:\n",
    "        return(print(error))\n",
    "    if shapes[0]<=2 or shapes[1]<=2:\n",
    "        return(print(error))\n",
    "    sums_list=[]\n",
    "    for i in range(0,len(array)-2):\n",
    "        for j in range(0,len(array)-2):\n",
    "            test_arr=np.array([np.eye(3)])*0\n",
    "            test_arr=arr[i:i+3,j:j+3]\n",
    "            temp1=test_arr[1,0]\n",
    "            temp2=test_arr[1,2]\n",
    "            test_arr[1,0]=0\n",
    "            test_arr[1,2]=0\n",
    "            sums=sum(sum(test_arr))\n",
    "            sums_list.append(sums)\n",
    "            test_arr[1,0]=temp1\n",
    "            test_arr[1,2]=temp2\n",
    "    sums_list=np.sort(sums_list)\n",
    "    optimus=sums_list[-1]\n",
    "    print('\\n','optimus=')\n",
    "    return(optimus)"
   ]
  },
  {
   "cell_type": "code",
   "execution_count": 30,
   "metadata": {},
   "outputs": [
    {
     "name": "stdout",
     "output_type": "stream",
     "text": [
      "[[ 0.11  5.78 -3.1  -3.82  0.08  1.01 -1.55  2.8   1.18 -4.81]\n",
      " [ 0.13  2.13  0.96 -4.01 -1.74  2.62 -1.3   0.98  0.56  2.08]\n",
      " [-2.31 -2.8  -6.1  -2.42  0.99 -0.33  2.74  0.6  -3.62 -0.47]\n",
      " [-2.3   0.89 -6.45 -1.41 -3.64 -0.02 -2.16 -1.19  5.64  1.47]\n",
      " [-0.69  0.28  3.94 -0.81 -4.49 -1.82  0.01  6.67 -0.44 -1.69]\n",
      " [ 2.1  -3.03  3.84  1.15  0.68 -1.2   0.74  6.81 -2.85 -1.06]\n",
      " [-1.79  0.97 -1.18 -0.98  1.86 -1.45  4.25 -5.74  1.22 -1.4 ]\n",
      " [-1.06  0.73 -1.28 -3.96 -0.38  1.28 -5.78 -2.77  2.48 -0.12]\n",
      " [-3.2   3.02  1.64  5.21 -0.91 -0.39 -3.33  4.24 -4.68 -2.08]\n",
      " [ 4.73  5.12 -5.71 -3.49  2.13 -2.37  3.4  -0.92  2.58 -1.25]]\n"
     ]
    }
   ],
   "source": [
    "if n<= 10:\n",
    "    print(arr)"
   ]
  },
  {
   "cell_type": "code",
   "execution_count": 31,
   "metadata": {},
   "outputs": [
    {
     "name": "stdout",
     "output_type": "stream",
     "text": [
      "\n",
      " optimus=\n"
     ]
    },
    {
     "data": {
      "text/plain": [
       "13.659999999999998"
      ]
     },
     "execution_count": 31,
     "metadata": {},
     "output_type": "execute_result"
    }
   ],
   "source": [
    "hourglassSum(arr)"
   ]
  },
  {
   "cell_type": "markdown",
   "metadata": {},
   "source": [
    "## stairCreator(n)\n",
    "\n",
    "Created on Dec 14 09:47:53 2019;\n",
    "This function takes an input, n, and prints a right aligned staircase made \n",
    "of # signs.\n",
    "@author: Erik Larsen"
   ]
  },
  {
   "cell_type": "code",
   "execution_count": 32,
   "metadata": {},
   "outputs": [],
   "source": [
    "n=8"
   ]
  },
  {
   "cell_type": "code",
   "execution_count": 33,
   "metadata": {},
   "outputs": [],
   "source": [
    "def stairCreator(n):\n",
    "    #create a list housing the stairs:\n",
    "    staircase=[]\n",
    "    #populate the list:\n",
    "    for i in range(0,n):\n",
    "        row=' '*((n-1)-i)+'#'*(i+1)\n",
    "        staircase.append(row)\n",
    "    #print the staircase one row at a time:\n",
    "    for i in staircase:\n",
    "        print(i)"
   ]
  },
  {
   "cell_type": "code",
   "execution_count": 34,
   "metadata": {},
   "outputs": [
    {
     "name": "stdout",
     "output_type": "stream",
     "text": [
      "       #\n",
      "      ##\n",
      "     ###\n",
      "    ####\n",
      "   #####\n",
      "  ######\n",
      " #######\n",
      "########\n"
     ]
    }
   ],
   "source": [
    "stairCreator(n)"
   ]
  },
  {
   "cell_type": "markdown",
   "metadata": {},
   "source": [
    "## gradingStudents(grades)\n",
    "\n",
    "Created on Dec 12 23:47:17 2019;\n",
    "gradingStudents takes an array of students grades and returns a certain rounded,\n",
    "or curved, version of the grades. \n",
    "@author: Erik Larsen"
   ]
  },
  {
   "cell_type": "code",
   "execution_count": 44,
   "metadata": {},
   "outputs": [],
   "source": [
    "grades=np.round(np.random.rand(20)*100,1)"
   ]
  },
  {
   "cell_type": "code",
   "execution_count": 45,
   "metadata": {},
   "outputs": [
    {
     "data": {
      "text/plain": [
       "array([68.9,  5.7, 48.9, 58.9, 54.4, 46.7, 91.8, 34.8, 99.5, 73.6, 49. ,\n",
       "       14.2, 26.6, 96.6, 31.1, 75.3, 15.9, 59.2,  1.6, 74.7])"
      ]
     },
     "execution_count": 45,
     "metadata": {},
     "output_type": "execute_result"
    }
   ],
   "source": [
    "grades"
   ]
  },
  {
   "cell_type": "code",
   "execution_count": 46,
   "metadata": {},
   "outputs": [],
   "source": [
    "def gradingStudents(grades):\n",
    "    # Write your code here\n",
    "    grades=list(grades)\n",
    "\n",
    "    for i in range(0,len(grades)):\n",
    "        if grades[i] <= 40 and grades[i] >= 38:\n",
    "            grades[i]=40\n",
    "        elif grades[i] <= 45 and grades[i] > 42:\n",
    "            grades[i]=45\n",
    "        elif grades[i] <= 50 and grades[i] > 47:\n",
    "            grades[i]=50\n",
    "        elif grades[i] <= 55 and grades[i] > 52:\n",
    "            grades[i]=55\n",
    "        elif grades[i] <= 60 and grades[i] > 57:\n",
    "            grades[i]=60\n",
    "        elif grades[i] <= 65 and grades[i] > 62:\n",
    "            grades[i]=65\n",
    "        elif grades[i] <= 70 and grades[i] > 67:\n",
    "            grades[i]=70\n",
    "        elif grades[i] <= 75 and grades[i] > 72:\n",
    "            grades[i]=75\n",
    "        elif grades[i] <= 80 and grades[i] > 77:\n",
    "            grades[i]=80\n",
    "        elif grades[i] <= 85 and grades[i] > 82:\n",
    "            grades[i]=85\n",
    "        elif grades[i] <= 90 and grades[i] > 87:\n",
    "            grades[i]=90\n",
    "        elif grades[i] <= 95 and grades[i] > 92:\n",
    "            grades[i]=95\n",
    "        elif grades[i] <= 100 and grades[i] > 97:\n",
    "            grades[i]=100\n",
    "\n",
    "    return(grades)"
   ]
  },
  {
   "cell_type": "code",
   "execution_count": 47,
   "metadata": {},
   "outputs": [
    {
     "data": {
      "text/plain": [
       "[70,\n",
       " 5.7,\n",
       " 50,\n",
       " 60,\n",
       " 55,\n",
       " 46.7,\n",
       " 91.8,\n",
       " 34.8,\n",
       " 100,\n",
       " 75,\n",
       " 50,\n",
       " 14.2,\n",
       " 26.6,\n",
       " 96.6,\n",
       " 31.1,\n",
       " 75.3,\n",
       " 15.9,\n",
       " 60,\n",
       " 1.6,\n",
       " 75]"
      ]
     },
     "execution_count": 47,
     "metadata": {},
     "output_type": "execute_result"
    }
   ],
   "source": [
    "gradingStudents(grades)"
   ]
  },
  {
   "cell_type": "markdown",
   "metadata": {},
   "source": [
    "## timeConversion(time)\n",
    "\n",
    "Created on Dec 18 00:02:36 2019;\n",
    "timeConversion takes a string input of standard time in the for '03:28:54PM'\n",
    "and converts it into military time.\n",
    "@author: Erik Larsen"
   ]
  },
  {
   "cell_type": "code",
   "execution_count": 48,
   "metadata": {},
   "outputs": [],
   "source": [
    "time = '07:24:36PM'"
   ]
  },
  {
   "cell_type": "code",
   "execution_count": 49,
   "metadata": {},
   "outputs": [],
   "source": [
    "def timeConversion(s):\n",
    "    for i in s:\n",
    "        if i=='P':\n",
    "            if int(s[0]) == 1 and int(s[1])==2:\n",
    "                s = s[0:8]\n",
    "                break\n",
    "            else:\n",
    "                num1=s[0]\n",
    "                num2=s[1]\n",
    "                num=str(int(num1+num2)+12)\n",
    "                s = s[2:8]\n",
    "                s=num +s\n",
    "        if i=='A':\n",
    "            if int(s[0]) == 1 and int(s[1])==2:\n",
    "                s = s[2:8]\n",
    "                s = '00'+s\n",
    "            s = s[0:8]\n",
    "\n",
    "    return(s)"
   ]
  },
  {
   "cell_type": "code",
   "execution_count": 50,
   "metadata": {},
   "outputs": [
    {
     "data": {
      "text/plain": [
       "'19:24:36'"
      ]
     },
     "execution_count": 50,
     "metadata": {},
     "output_type": "execute_result"
    }
   ],
   "source": [
    "timeConversion(time)"
   ]
  },
  {
   "cell_type": "markdown",
   "metadata": {},
   "source": [
    "# maxCounter(list)\n",
    "\n",
    "Created on Dec 16 00:11:06 2019;\n",
    "maxCounter takes a list of integers and returns the number of instances of \n",
    "the largest integer in the list.\n",
    "@author: Erik Larsen"
   ]
  },
  {
   "cell_type": "code",
   "execution_count": 53,
   "metadata": {},
   "outputs": [],
   "source": [
    "def maxCounter(ar):\n",
    "    num_max=0\n",
    "    ar.sort()\n",
    "    ar.reverse()\n",
    "    temp = ar[0]\n",
    "    for num in ar:\n",
    "        if num == temp:\n",
    "            num_max +=1\n",
    "            temp = num\n",
    "        elif temp > num:\n",
    "            break\n",
    "    return(num_max)"
   ]
  },
  {
   "cell_type": "code",
   "execution_count": 56,
   "metadata": {},
   "outputs": [],
   "source": [
    "lst=[4,5,5,8,9,6,7,3,4,2,6,4,3,4,5,8,9,6,4,3,5,7,9,6,3,4,5,6,]"
   ]
  },
  {
   "cell_type": "code",
   "execution_count": 59,
   "metadata": {},
   "outputs": [
    {
     "data": {
      "text/plain": [
       "3"
      ]
     },
     "execution_count": 59,
     "metadata": {},
     "output_type": "execute_result"
    }
   ],
   "source": [
    "maxCounter(lst)"
   ]
  },
  {
   "cell_type": "markdown",
   "metadata": {},
   "source": [
    "## diagonalDifference(list)\n",
    "\n",
    "Created on Dec 19 00:25:14 2019;\n",
    "diagonalDifference takes the absolute difference of the sums of the opposite\n",
    "diagonals of a given list type array.\n",
    "@author: Erik Larsen"
   ]
  },
  {
   "cell_type": "code",
   "execution_count": 60,
   "metadata": {},
   "outputs": [],
   "source": [
    "def diagonalDifference(arr):\n",
    "    sums1=[]\n",
    "    sums2=[]\n",
    "\n",
    "    for i in range(0,(len(arr[0]))):\n",
    "        for j in range(0,(len(arr[0]))):\n",
    "            if i==j:\n",
    "                sums1.append(arr[i][j])\n",
    "\n",
    "    arr.reverse()\n",
    "\n",
    "    for i in range(0,(len(arr[0]))):\n",
    "        for j in range(0,(len(arr[0]))):\n",
    "            if i==j:\n",
    "                sums2.append(arr[i][j])\n",
    "    \n",
    "    diff=abs(sum(sums1)-sum(sums2))\n",
    "    return(diff)"
   ]
  },
  {
   "cell_type": "code",
   "execution_count": 62,
   "metadata": {},
   "outputs": [
    {
     "data": {
      "text/plain": [
       "13.95"
      ]
     },
     "execution_count": 62,
     "metadata": {},
     "output_type": "execute_result"
    }
   ],
   "source": [
    "diagonalDifference(list(arr))"
   ]
  },
  {
   "cell_type": "markdown",
   "metadata": {},
   "source": [
    "## plusMinus(list)\n",
    "\n",
    "Created on Dec 12 00:32:29 2019;\n",
    "plusMinus takes a list of positive and negative numbers and prints the ratios\n",
    "of positives, negatives, and zeros to the total number in the list, respectively.\n",
    "@author: Erik Larsen"
   ]
  },
  {
   "cell_type": "code",
   "execution_count": 63,
   "metadata": {},
   "outputs": [],
   "source": [
    "def plusMinus(arr):\n",
    "    percents = [float(0),float(0),float(0)]\n",
    "    pos=[]\n",
    "    zeros=[]\n",
    "    negs=[]\n",
    "    n = len(arr)\n",
    "    for i in arr:\n",
    "        if i == 0:\n",
    "            zeros.append(float(i))\n",
    "        elif i > 0:\n",
    "            pos.append(float(i))\n",
    "        elif i < 0:\n",
    "            negs.append(float(i))\n",
    "\n",
    "    percents[2]=len(zeros)*(1/n)\n",
    "    percents[0]=len(pos)*(1/n)\n",
    "    percents[1]=len(negs)*(1/n)\n",
    "    \n",
    "    for i in range(0,len(percents)):\n",
    "        percents[i] = \"%.6f\" % percents[i]\n",
    "\n",
    "    for i in percents:\n",
    "        print(i)"
   ]
  },
  {
   "cell_type": "code",
   "execution_count": 64,
   "metadata": {},
   "outputs": [
    {
     "name": "stdout",
     "output_type": "stream",
     "text": [
      "1.000000\n",
      "0.000000\n",
      "0.000000\n"
     ]
    }
   ],
   "source": [
    "plusMinus(list(grades))"
   ]
  },
  {
   "cell_type": "code",
   "execution_count": 66,
   "metadata": {},
   "outputs": [],
   "source": [
    "lst=list(np.round(np.random.randn(50)*100))"
   ]
  },
  {
   "cell_type": "code",
   "execution_count": 69,
   "metadata": {},
   "outputs": [
    {
     "name": "stdout",
     "output_type": "stream",
     "text": [
      "0.360000\n",
      "0.640000\n",
      "0.000000\n"
     ]
    }
   ],
   "source": [
    "plusMinus(lst)"
   ]
  },
  {
   "cell_type": "markdown",
   "metadata": {},
   "source": [
    "## miniMaxSum(list)\n",
    "\n",
    "Created on Dec 10 00:43:57 2019;\n",
    "miniMaxSum finds the smallest and largest possible sums of numbers in a \n",
    "given list, considering all but one member of the list.\n",
    "@author: Erik Larsen"
   ]
  },
  {
   "cell_type": "code",
   "execution_count": 70,
   "metadata": {},
   "outputs": [],
   "source": [
    "max = 0;\n",
    "min = 0;\n",
    "def miniMaxSum(arr):\n",
    "    arr.sort()\n",
    "    max = sum(arr)-arr[0]\n",
    "    min = sum(arr)-arr[-1]\n",
    "    print(min,max)"
   ]
  },
  {
   "cell_type": "code",
   "execution_count": 72,
   "metadata": {},
   "outputs": [
    {
     "name": "stdout",
     "output_type": "stream",
     "text": [
      "-1017.0 -610.0\n"
     ]
    }
   ],
   "source": [
    "miniMaxSum(lst)"
   ]
  },
  {
   "cell_type": "code",
   "execution_count": null,
   "metadata": {},
   "outputs": [],
   "source": []
  }
 ],
 "metadata": {
  "kernelspec": {
   "display_name": "Python 3",
   "language": "python",
   "name": "python3"
  },
  "language_info": {
   "codemirror_mode": {
    "name": "ipython",
    "version": 3
   },
   "file_extension": ".py",
   "mimetype": "text/x-python",
   "name": "python",
   "nbconvert_exporter": "python",
   "pygments_lexer": "ipython3",
   "version": "3.7.4"
  }
 },
 "nbformat": 4,
 "nbformat_minor": 2
}
