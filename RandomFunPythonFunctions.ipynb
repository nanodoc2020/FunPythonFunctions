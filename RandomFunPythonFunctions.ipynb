{
 "cells": [
  {
   "cell_type": "markdown",
   "metadata": {},
   "source": [
    "# Random Fun Python Functions\n",
    "\n",
    "This notebook contains functions that create staircases, sums hourglass figures in arrays, etc. As always, more to come!"
   ]
  },
  {
   "cell_type": "markdown",
   "metadata": {},
   "source": [
    "## hourglassSums(array)\n",
    "\n",
    "Created on Fri Dec 27 19:43:05 2019;\n",
    "hourglassSum takes a square array and calculates the sums of all of the \n",
    "hourglass shapes composed of 3x3 arrays within the original array and stores\n",
    "them in a list. Then the list is sorted and the largest of the sums is returned.\n",
    "@author: Erik Larsen"
   ]
  },
  {
   "cell_type": "code",
   "execution_count": 27,
   "metadata": {},
   "outputs": [],
   "source": [
    "n=10"
   ]
  },
  {
   "cell_type": "code",
   "execution_count": 28,
   "metadata": {},
   "outputs": [],
   "source": [
    "arr=np.round(np.random.randn(n,n)*3-np.eye(n)*2,2)     "
   ]
  },
  {
   "cell_type": "code",
   "execution_count": 29,
   "metadata": {},
   "outputs": [],
   "source": [
    "import numpy as np\n",
    "\n",
    "def hourglassSum(array):\n",
    "    shapes=np.shape(array)\n",
    "    error='error: My apologies, the input must be a square array with n>2.'\n",
    "    if shapes[0]!=shapes[1]:\n",
    "        return(print(error))\n",
    "    if shapes[0]<=2 or shapes[1]<=2:\n",
    "        return(print(error))\n",
    "    sums_list=[]\n",
    "    for i in range(0,len(array)-2):\n",
    "        for j in range(0,len(array)-2):\n",
    "            test_arr=np.array([np.eye(3)])*0\n",
    "            test_arr=arr[i:i+3,j:j+3]\n",
    "            temp1=test_arr[1,0]\n",
    "            temp2=test_arr[1,2]\n",
    "            test_arr[1,0]=0\n",
    "            test_arr[1,2]=0\n",
    "            sums=sum(sum(test_arr))\n",
    "            sums_list.append(sums)\n",
    "            test_arr[1,0]=temp1\n",
    "            test_arr[1,2]=temp2\n",
    "    sums_list=np.sort(sums_list)\n",
    "    optimus=sums_list[-1]\n",
    "    print('\\n','optimus=')\n",
    "    return(optimus)"
   ]
  },
  {
   "cell_type": "code",
   "execution_count": 30,
   "metadata": {},
   "outputs": [
    {
     "name": "stdout",
     "output_type": "stream",
     "text": [
      "[[ 0.11  5.78 -3.1  -3.82  0.08  1.01 -1.55  2.8   1.18 -4.81]\n",
      " [ 0.13  2.13  0.96 -4.01 -1.74  2.62 -1.3   0.98  0.56  2.08]\n",
      " [-2.31 -2.8  -6.1  -2.42  0.99 -0.33  2.74  0.6  -3.62 -0.47]\n",
      " [-2.3   0.89 -6.45 -1.41 -3.64 -0.02 -2.16 -1.19  5.64  1.47]\n",
      " [-0.69  0.28  3.94 -0.81 -4.49 -1.82  0.01  6.67 -0.44 -1.69]\n",
      " [ 2.1  -3.03  3.84  1.15  0.68 -1.2   0.74  6.81 -2.85 -1.06]\n",
      " [-1.79  0.97 -1.18 -0.98  1.86 -1.45  4.25 -5.74  1.22 -1.4 ]\n",
      " [-1.06  0.73 -1.28 -3.96 -0.38  1.28 -5.78 -2.77  2.48 -0.12]\n",
      " [-3.2   3.02  1.64  5.21 -0.91 -0.39 -3.33  4.24 -4.68 -2.08]\n",
      " [ 4.73  5.12 -5.71 -3.49  2.13 -2.37  3.4  -0.92  2.58 -1.25]]\n"
     ]
    }
   ],
   "source": [
    "if n<= 10:\n",
    "    print(arr)"
   ]
  },
  {
   "cell_type": "code",
   "execution_count": 31,
   "metadata": {},
   "outputs": [
    {
     "name": "stdout",
     "output_type": "stream",
     "text": [
      "\n",
      " optimus=\n"
     ]
    },
    {
     "data": {
      "text/plain": [
       "13.659999999999998"
      ]
     },
     "execution_count": 31,
     "metadata": {},
     "output_type": "execute_result"
    }
   ],
   "source": [
    "hourglassSum(arr)"
   ]
  },
  {
   "cell_type": "markdown",
   "metadata": {},
   "source": [
    "## stairCreator(n)\n",
    "\n",
    "Created on Dec 14 09:47:53 2019;\n",
    "This function takes an input, n, and prints a right aligned staircase made \n",
    "of # signs.\n",
    "@author: Erik Larsen"
   ]
  },
  {
   "cell_type": "code",
   "execution_count": 32,
   "metadata": {},
   "outputs": [],
   "source": [
    "n=8"
   ]
  },
  {
   "cell_type": "code",
   "execution_count": 33,
   "metadata": {},
   "outputs": [],
   "source": [
    "def stairCreator(n):\n",
    "    #create a list housing the stairs:\n",
    "    staircase=[]\n",
    "    #populate the list:\n",
    "    for i in range(0,n):\n",
    "        row=' '*((n-1)-i)+'#'*(i+1)\n",
    "        staircase.append(row)\n",
    "    #print the staircase one row at a time:\n",
    "    for i in staircase:\n",
    "        print(i)"
   ]
  },
  {
   "cell_type": "code",
   "execution_count": 34,
   "metadata": {},
   "outputs": [
    {
     "name": "stdout",
     "output_type": "stream",
     "text": [
      "       #\n",
      "      ##\n",
      "     ###\n",
      "    ####\n",
      "   #####\n",
      "  ######\n",
      " #######\n",
      "########\n"
     ]
    }
   ],
   "source": [
    "stairCreator(n)"
   ]
  },
  {
   "cell_type": "code",
   "execution_count": null,
   "metadata": {},
   "outputs": [],
   "source": []
  }
 ],
 "metadata": {
  "kernelspec": {
   "display_name": "Python 3",
   "language": "python",
   "name": "python3"
  },
  "language_info": {
   "codemirror_mode": {
    "name": "ipython",
    "version": 3
   },
   "file_extension": ".py",
   "mimetype": "text/x-python",
   "name": "python",
   "nbconvert_exporter": "python",
   "pygments_lexer": "ipython3",
   "version": "3.7.4"
  }
 },
 "nbformat": 4,
 "nbformat_minor": 2
}
